{
  "cells": [
    {
      "cell_type": "markdown",
      "metadata": {
        "id": "786da658"
      },
      "source": [
        "1. Create two empty lists. Use a for loop, fill first list with all numbers between 399 and 1399 that are divisible by 5 but not by 2, fill the second with other numbers that are divisible by 7 but not by 3. (the list should not include 399 or 1399, the second list will not contain any number that appear in the first). "
      ],
      "id": "786da658"
    },
    {
      "cell_type": "markdown",
      "metadata": {
        "id": "2e3aa370"
      },
      "source": [
        "2. This time use a while loop to do the same thing. "
      ],
      "id": "2e3aa370"
    },
    {
      "cell_type": "markdown",
      "metadata": {
        "id": "4459d490"
      },
      "source": [
        "3. This time use list comprehension. "
      ],
      "id": "4459d490"
    },
    {
      "cell_type": "markdown",
      "metadata": {
        "id": "538db106"
      },
      "source": [
        "4. Count the even and odd numbers in the given list\n"
      ],
      "id": "538db106"
    },
    {
      "cell_type": "code",
      "execution_count": null,
      "metadata": {
        "id": "ba2c2e88"
      },
      "outputs": [],
      "source": [
        "numberlist = (1,2,3,4,5,6,7,8,9,10)"
      ],
      "id": "ba2c2e88"
    },
    {
      "cell_type": "markdown",
      "metadata": {
        "id": "871ce4bb"
      },
      "source": [
        "5. Write a program that recieves two user inputs, the number of rows and the number of columns, and returns a two-dimensional array where the element at each position is the product of the row index and column index. For example, for a 2D array with 4 rows and 4 columns, the element at (row 2, column 2), which is the same as (row index 1, column index 1), is 1 because 1 * 1 = 1. The element at (row 4, column 3), which is the same as (row index 3, column index 2), is 6 because 3 * 2 = 6. Refer to the complete example in the 2D array shown below (Double click on the markdown if it’s not properly displayed)  \n",
        " "
      ],
      "id": "871ce4bb"
    },
    {
      "cell_type": "markdown",
      "metadata": {
        "id": "2a7a2861"
      },
      "source": [
        "   c1  c2  c3  c4  \n",
        "r1  0   0   0   0  \n",
        "r2  0   1   2   3   \n",
        "r3  0   2   4   6  \n",
        "r4  0   3   6   9  \n"
      ],
      "id": "2a7a2861"
    },
    {
      "cell_type": "markdown",
      "metadata": {
        "id": "3f07dfab"
      },
      "source": [
        "6. Define a function that takes one argument, a list, and returns the product of all the numbers in the list. The function should be able to handle the following circumstances: 1) if it receives a list with strings, convert the strings to a numeric type and still return the product; 2) if it receives a list with strings that cannot be converted to a numeric type, provide a warning message; and 3) returns 0 is provided an empty list.\n",
        "\n",
        "input: [1, 2, 3 , 4, 5]  \n",
        "output: 120  "
      ],
      "id": "3f07dfab"
    },
    {
      "cell_type": "markdown",
      "metadata": {
        "id": "aabee074"
      },
      "source": [
        "7. Write a function that takes a string as input and returns the “mirrored” string. The function should be \"interactive\", which means that the function should ask the user for an input, and provide the mirrored string. The function should return a warning message when the string is empty.\n",
        "   \n",
        "   input = \"applebanana\"  \n",
        "   output = \"ananabelppa\"\n",
        "  "
      ],
      "id": "aabee074"
    },
    {
      "cell_type": "markdown",
      "metadata": {
        "id": "cfdc264e"
      },
      "source": [
        "8. Given a sorted list, remove the duplicate entries in the list.(hint: you can use another list to store your output.)    \n",
        "input: [1,2,2,2,4,4,5,5,7,7,8,8,8,8]  \n",
        "output: [1,2,4,5,7,8]   "
      ],
      "id": "cfdc264e"
    },
    {
      "cell_type": "markdown",
      "metadata": {
        "id": "679c2c19"
      },
      "source": [
        "9. Given a string, write a function to check whether the string is a palindrome or not  \n",
        "input: \"apa\"  \n",
        "output: True  "
      ],
      "id": "679c2c19"
    },
    {
      "cell_type": "markdown",
      "metadata": {
        "id": "5cd4574b"
      },
      "source": [
        "10. Write a function to sort the given list (hint: there are multiple ways to solve it, don't worry about time complexity and space complexity. Extra credit will be given based on your solution.) \n",
        "input: [10, 5, 14, 6, 20, 1]  \n",
        "output: [1, 5, 6, 10, 14. 20]  "
      ],
      "id": "5cd4574b"
    },
    {
      "cell_type": "markdown",
      "metadata": {
        "id": "43a169d1"
      },
      "source": [
        "11. Write a function that splits an even length tuple into two tuples, each half the length of the original tuple.\n",
        "input: (1,2,3,4)  \n",
        "output: (1,2) (3,4). \n"
      ],
      "id": "43a169d1"
    },
    {
      "cell_type": "markdown",
      "metadata": {
        "id": "b40da7e9"
      },
      "source": [
        "12. Write a function that prints each number from 1 to n, given a number n  \n",
        "    if the number is divisible by 3, print “fizz” instead of the number,  \n",
        "    if the number is divisible by 5, print “buzz” instead of the number, and  \n",
        "    if the number is divisible by both 3 and 5, print “fizzbuzz” instead of the number.   \n",
        "    Otherwise, just print the number.  \n",
        "    input: n = 15  \n",
        "    output:   \n",
        "    1 2 fizz 4 buzz fizz 7 8 fizz buzz 11 fizz 13 14 fizzbuzz  "
      ],
      "id": "b40da7e9"
    },
    {
      "cell_type": "markdown",
      "metadata": {
        "id": "a971477f"
      },
      "source": [
        "13. Given a list of 2n + 1 numbers where every number occurs twice besides one number that only occurs once, write a function that prints the number that only occurs once. For example [1, 1, 5, 5, 3]. 3 only occurs once. \n",
        "\n"
      ],
      "id": "a971477f"
    },
    {
      "cell_type": "markdown",
      "metadata": {
        "id": "84a65636"
      },
      "source": [
        "14. Write a function that finds the median of any list that’s at least size 1. "
      ],
      "id": "84a65636"
    },
    {
      "cell_type": "markdown",
      "metadata": {
        "id": "cd6c1b12"
      },
      "source": [
        "15. Write a function that calculates the exact square root of a number. \n",
        "\n"
      ],
      "id": "cd6c1b12"
    },
    {
      "cell_type": "markdown",
      "metadata": {
        "id": "46ae7542"
      },
      "source": [
        "16. Given a list of numbers, write a function that returns the sum of the numbers that are smaller than the element at each position in the list. For example,  \n",
        "input_list:  \n",
        "[2, 4, 8, 3, 3]  \n",
        "output_list:  \n",
        "[0, 8, 12, 2, 2]   \n",
        "\n",
        "Explanation:   \n",
        "input_list[0] or 2: no other numbers in the list are smaller than 2 so output_list[0] = 0  \n",
        "input_list[1] or 4: 2, 3, and 3 in the input_list are smaller than 4 so 2+3+3 = 8   output_list[1] = 8  \n",
        "input_list[2] or 8: all the other numbers are smaller so 2 + 4 + 3 + 3 = 12 output_list[2] = 12   \n",
        "input_list[3] or 3: only 2 is smaller so output_list[3] = 2  \n",
        "input_list[4] or 3: only 2 is smaller so output_list[4] = 2   "
      ],
      "id": "46ae7542"
    },
    {
      "cell_type": "markdown",
      "metadata": {
        "id": "0db373ab"
      },
      "source": [
        "17. Write a function that accepts a sorted input list and a target value. Return the index position of the last element equal to the target. For example,  \n",
        "input_list:  \n",
        "[1, 2, 2, 4, 6, 6]  \n",
        "target: 6  \n",
        "output:  \n",
        "5 (because the last position of the target 6 is in position 5 in the input_list)   "
      ],
      "id": "0db373ab"
    },
    {
      "cell_type": "markdown",
      "metadata": {
        "id": "f858fa4f"
      },
      "source": [
        "18. Write a function that accepts an input list and a target value. Return the index position of the element in the list that is closest to the target. For example,  \n",
        "input_list:  \n",
        "[1, 4, 6]   \n",
        "target: 3  \n",
        "output: 1 (because 4 is closest to 3)   \n",
        "input_list:  \n",
        "[1, 4, 6]   \n",
        "target: 5  \n",
        "output: either 1 or 2 (because 4 and 6 are equally close to 5, each 1 unit away)   "
      ],
      "id": "f858fa4f"
    },
    {
      "cell_type": "markdown",
      "metadata": {
        "id": "f269da31"
      },
      "source": [
        "19. Write a function that takes a list of integers and a target value and returns two numbers in the list that sum to the target. For example:  \n",
        "input_list:  \n",
        "[4,6,8,12,15,17,22]   \n",
        "target: 18  \n",
        "output_list:  \n",
        "[6, 12]  "
      ],
      "id": "f269da31"
    },
    {
      "cell_type": "markdown",
      "metadata": {
        "id": "ea3ba531"
      },
      "source": [
        "20 (optional). A person stands at the bottom of a staircase. They can either take one or two stairs at a time. How many ways can the person take the stairs to reach the top of n stairs? For example,\n",
        "\n",
        "if there are 3 stairs (n=3), then they may take the stairs:  \n",
        "one at a time: 1, 1, 1  \n",
        "one stair then two stairs: 1, 2   \n",
        "two stairs then one stair: 2, 1  \n",
        "Thus, there are 3 ways the person can take the stairs to reach the top of 3 stairs.  "
      ],
      "id": "ea3ba531"
    },
    {
      "cell_type": "code",
      "execution_count": null,
      "metadata": {
        "id": "4Y76V8hGXHSG"
      },
      "outputs": [],
      "source": [],
      "id": "4Y76V8hGXHSG"
    }
  ],
  "metadata": {
    "colab": {
      "provenance": [],
      "collapsed_sections": []
    },
    "kernelspec": {
      "display_name": "Python 3",
      "language": "python",
      "name": "python3"
    },
    "language_info": {
      "codemirror_mode": {
        "name": "ipython",
        "version": 3
      },
      "file_extension": ".py",
      "mimetype": "text/x-python",
      "name": "python",
      "nbconvert_exporter": "python",
      "pygments_lexer": "ipython3",
      "version": "3.8.3"
    }
  },
  "nbformat": 4,
  "nbformat_minor": 5
}